{
 "cells": [
  {
   "cell_type": "code",
   "execution_count": 9,
   "id": "f33d9684",
   "metadata": {},
   "outputs": [
    {
     "name": "stdout",
     "output_type": "stream",
     "text": [
      "   IDADE   SEXO  CÓD. SIGLA   LOCAL     2000     2001     2002     2003  \\\n",
      "0      0  Ambos     0    BR  Brasil  3423475  3347313  3274356  3212295   \n",
      "1      1  Ambos     0    BR  Brasil  3450022  3406966  3332612  3261091   \n",
      "2      2  Ambos     0    BR  Brasil  3461038  3444450  3401900  3327924   \n",
      "3      3  Ambos     0    BR  Brasil  3469109  3458052  3441638  3399284   \n",
      "4      4  Ambos     0    BR  Brasil  3477903  3466901  3455987  3439662   \n",
      "\n",
      "      2004  ...     2061     2062     2063     2064     2065     2066  \\\n",
      "0  3163041  ...  1615589  1597609  1580751  1564427  1549026  1534801   \n",
      "1  3200484  ...  1634395  1614666  1596716  1579885  1563579  1548205   \n",
      "2  3256791  ...  1655206  1633932  1614217  1596273  1579457  1563166   \n",
      "3  3325501  ...  1676639  1654738  1633474  1613776  1595841  1579039   \n",
      "4  3397467  ...  1697627  1676166  1654275  1633030  1613338  1595416   \n",
      "\n",
      "      2067     2068     2069     2070  \n",
      "0  1521584  1509151  1497237  1485716  \n",
      "1  1534002  1520805  1508394  1496496  \n",
      "2  1547800  1533609  1520415  1508015  \n",
      "3  1562761  1547399  1533216  1520035  \n",
      "4  1578625  1562356  1547006  1532831  \n",
      "\n",
      "[5 rows x 76 columns]\n"
     ]
    }
   ],
   "source": [
    "import pandas as pd\n",
    "\n",
    "# Caminho do arquivo — note o uso de 'r' antes da string para evitar problemas com '\\'\n",
    "file_path = r'C:\\Users\\Windows 11\\Downloads\\IBGE - População por ano.xlsx'\n",
    "\n",
    "# Carrega o arquivo Excel\n",
    "xls = pd.ExcelFile(file_path)\n",
    "\n",
    "# Lê a primeira planilha ou uma planilha específica\n",
    "df = xls.parse(xls.sheet_names[0])  \n",
    "\n",
    "# Exibe as primeiras linhas\n",
    "print(df.head())"
   ]
  },
  {
   "cell_type": "code",
   "execution_count": 11,
   "id": "db0f7901",
   "metadata": {},
   "outputs": [
    {
     "name": "stdout",
     "output_type": "stream",
     "text": [
      "Arquivo salvo com sucesso em: C:\\Users\\Windows 11\\Downloads\\IBGE_transformado.xlsx\n"
     ]
    }
   ],
   "source": [
    "# Caminho do arquivo \n",
    "file_path = r'C:\\Users\\Windows 11\\Downloads\\IBGE - População por ano.xlsx'\n",
    "\n",
    "# Carrega o arquivo Excel\n",
    "xls = pd.ExcelFile(file_path)\n",
    "df = xls.parse(xls.sheet_names[0])  # ou 'Planilha1', se quiser especificar\n",
    "\n",
    "# Identificar colunas de anos\n",
    "year_columns = [col for col in df.columns if str(col).isdigit()]\n",
    "\n",
    "# Transformar para formato longo\n",
    "df_long = df.melt(\n",
    "    id_vars=['IDADE', 'SEXO', 'CÓD.', 'SIGLA', 'LOCAL'],\n",
    "    value_vars=year_columns,\n",
    "    var_name='ANO',\n",
    "    value_name='POPULAÇÃO'\n",
    ")\n",
    "\n",
    "# Caminho do novo arquivo Excel\n",
    "output_path = r'C:\\Users\\Windows 11\\Downloads\\IBGE_transformado.xlsx'\n",
    "\n",
    "# Salvar como Excel\n",
    "df_long.to_excel(output_path, index=False)\n",
    "\n",
    "print(\"Arquivo salvo com sucesso em:\", output_path)"
   ]
  },
  {
   "cell_type": "code",
   "execution_count": null,
   "id": "56d6d0c1",
   "metadata": {},
   "outputs": [],
   "source": []
  }
 ],
 "metadata": {
  "kernelspec": {
   "display_name": "Python 3 (ipykernel)",
   "language": "python",
   "name": "python3"
  },
  "language_info": {
   "codemirror_mode": {
    "name": "ipython",
    "version": 3
   },
   "file_extension": ".py",
   "mimetype": "text/x-python",
   "name": "python",
   "nbconvert_exporter": "python",
   "pygments_lexer": "ipython3",
   "version": "3.9.13"
  }
 },
 "nbformat": 4,
 "nbformat_minor": 5
}
